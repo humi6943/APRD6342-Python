{
  "nbformat": 4,
  "nbformat_minor": 0,
  "metadata": {
    "colab": {
      "name": "Exercise4 Using CensusReporter to Make Geographic Selections.ipynb",
      "provenance": []
    },
    "kernelspec": {
      "name": "python3",
      "display_name": "Python 3"
    }
  },
  "cells": [
    {
      "cell_type": "markdown",
      "metadata": {
        "id": "fYIJ6JiUbsAr",
        "colab_type": "text"
      },
      "source": [
        "#Exercise 4 Using CensusReporter to Make Geographic Selections."
      ]
    },
    {
      "cell_type": "code",
      "metadata": {
        "id": "sBHCc4nWb07o",
        "colab_type": "code",
        "outputId": "c1a416e9-0119-4d3f-9dd3-daf45e7ea212",
        "colab": {
          "base_uri": "https://localhost:8080/",
          "height": 34
        }
      },
      "source": [
        "import pandas as pd\n",
        "import requests \n",
        "import json\n",
        "from google.colab import drive\n",
        "drive.mount('/content/drive')\n",
        "df = pd.read_csv(open('drive/My Drive/Colab Notebooks/msas.csv', 'rb'))"
      ],
      "execution_count": 0,
      "outputs": [
        {
          "output_type": "stream",
          "text": [
            "Drive already mounted at /content/drive; to attempt to forcibly remount, call drive.mount(\"/content/drive\", force_remount=True).\n"
          ],
          "name": "stdout"
        }
      ]
    },
    {
      "cell_type": "code",
      "metadata": {
        "id": "gI0629tfbwDH",
        "colab_type": "code",
        "outputId": "d9119247-f5cb-4604-fcd6-36bef595071d",
        "colab": {
          "base_uri": "https://localhost:8080/",
          "height": 197
        }
      },
      "source": [
        "df.head()"
      ],
      "execution_count": 0,
      "outputs": [
        {
          "output_type": "execute_result",
          "data": {
            "text/html": [
              "<div>\n",
              "<style scoped>\n",
              "    .dataframe tbody tr th:only-of-type {\n",
              "        vertical-align: middle;\n",
              "    }\n",
              "\n",
              "    .dataframe tbody tr th {\n",
              "        vertical-align: top;\n",
              "    }\n",
              "\n",
              "    .dataframe thead th {\n",
              "        text-align: right;\n",
              "    }\n",
              "</style>\n",
              "<table border=\"1\" class=\"dataframe\">\n",
              "  <thead>\n",
              "    <tr style=\"text-align: right;\">\n",
              "      <th></th>\n",
              "      <th>CBSA</th>\n",
              "      <th>NAME</th>\n",
              "      <th>POPESTIMATE2017</th>\n",
              "    </tr>\n",
              "  </thead>\n",
              "  <tbody>\n",
              "    <tr>\n",
              "      <th>0</th>\n",
              "      <td>10180</td>\n",
              "      <td>Abilene, TX</td>\n",
              "      <td>170219</td>\n",
              "    </tr>\n",
              "    <tr>\n",
              "      <th>1</th>\n",
              "      <td>10420</td>\n",
              "      <td>Akron, OH</td>\n",
              "      <td>703505</td>\n",
              "    </tr>\n",
              "    <tr>\n",
              "      <th>2</th>\n",
              "      <td>10500</td>\n",
              "      <td>Albany, GA</td>\n",
              "      <td>151434</td>\n",
              "    </tr>\n",
              "    <tr>\n",
              "      <th>3</th>\n",
              "      <td>10540</td>\n",
              "      <td>Albany, OR</td>\n",
              "      <td>125047</td>\n",
              "    </tr>\n",
              "    <tr>\n",
              "      <th>4</th>\n",
              "      <td>10580</td>\n",
              "      <td>Albany-Schenectady-Troy, NY</td>\n",
              "      <td>886188</td>\n",
              "    </tr>\n",
              "  </tbody>\n",
              "</table>\n",
              "</div>"
            ],
            "text/plain": [
              "    CBSA                         NAME  POPESTIMATE2017\n",
              "0  10180                  Abilene, TX           170219\n",
              "1  10420                    Akron, OH           703505\n",
              "2  10500                   Albany, GA           151434\n",
              "3  10540                   Albany, OR           125047\n",
              "4  10580  Albany-Schenectady-Troy, NY           886188"
            ]
          },
          "metadata": {
            "tags": []
          },
          "execution_count": 44
        }
      ]
    },
    {
      "cell_type": "markdown",
      "metadata": {
        "id": "qEu4KO2pNi8y",
        "colab_type": "text"
      },
      "source": [
        "\n",
        "Should we look for areas with large Hispanic populations parameter 3. Hispanic\n",
        "\n",
        "---B03002 Hispanic "
      ]
    },
    {
      "cell_type": "code",
      "metadata": {
        "id": "IpfgL_cPeDsJ",
        "colab_type": "code",
        "colab": {}
      },
      "source": [
        "geoid = '31000US' + df['CBSA'].astype(str)\n",
        "half1 = geoid[:len(geoid)//2]\n",
        "half2 = geoid[len(geoid)//2:]\n",
        "half1 = \",\".join(half1)\n",
        "half2 = \",\".join(half2)"
      ],
      "execution_count": 0,
      "outputs": []
    },
    {
      "cell_type": "markdown",
      "metadata": {
        "id": "o1QPTXjZd4gK",
        "colab_type": "text"
      },
      "source": [
        "#Question1\n",
        "##1 What city has the highest count of the audience you chose for parameter #1?"
      ]
    },
    {
      "cell_type": "code",
      "metadata": {
        "id": "yKlPek6_Kl4P",
        "colab_type": "code",
        "colab": {}
      },
      "source": [
        "t1 = ['B19001']\n",
        "t01 = \",\".join(t1)"
      ],
      "execution_count": 0,
      "outputs": []
    },
    {
      "cell_type": "code",
      "metadata": {
        "id": "B-EDBWSxflPB",
        "colab_type": "code",
        "colab": {}
      },
      "source": [
        "requesturl = 'http://api.censusreporter.org/1.0/data/show/latest?table_ids=%s&geo_ids=%s' % (t01, half1)\n",
        "loadedjson = requests.get(requesturl)\n",
        "parsedjson = json.loads(loadedjson.text)\n"
      ],
      "execution_count": 0,
      "outputs": []
    },
    {
      "cell_type": "code",
      "metadata": {
        "id": "mkTr5gGKo3LB",
        "colab_type": "code",
        "colab": {}
      },
      "source": [
        "requestur2 = 'http://api.censusreporter.org/1.0/data/show/latest?table_ids=%s&geo_ids=%s' % (t01, half2)\n",
        "loadedjson2 = requests.get(requestur2)\n",
        "parsedjson2 = json.loads(loadedjson2.text)"
      ],
      "execution_count": 0,
      "outputs": []
    },
    {
      "cell_type": "markdown",
      "metadata": {
        "id": "5mk3sEDLhX9D",
        "colab_type": "text"
      },
      "source": [
        "What average HH income should we choose? parameter 1\n",
        "\n",
        "---B19001 Household income 50k to 74.9k"
      ]
    },
    {
      "cell_type": "code",
      "metadata": {
        "id": "e2bphmuRhZSy",
        "colab_type": "code",
        "colab": {}
      },
      "source": [
        "df1 = pd.DataFrame(columns=[\"country\", \"population\"], index=list(range(1,len(geoid))))"
      ],
      "execution_count": 0,
      "outputs": []
    },
    {
      "cell_type": "code",
      "metadata": {
        "id": "xhF8qSPXiWTH",
        "colab_type": "code",
        "colab": {}
      },
      "source": [
        "#first part\n",
        "for i in list(range(1,len(geoid)//2)):\n",
        "  df1['country'][i]=[geoid[i]]\n",
        "  df1[\"population\"][i]=parsedjson['data'][geoid[i]]['B19001']['estimate']['B19001011']+parsedjson['data'][geoid[i]]['B19001']['estimate']['B19001012']"
      ],
      "execution_count": 0,
      "outputs": []
    },
    {
      "cell_type": "code",
      "metadata": {
        "id": "3Y1OhAa4mFb_",
        "colab_type": "code",
        "colab": {}
      },
      "source": [
        "#second part\n",
        "for i in list(range(192,len(geoid))):\n",
        "  df1['country'][i]=[geoid[i]]\n",
        "  df1[\"population\"][i]=parsedjson2['data'][geoid[i]]['B19001']['estimate']['B19001011']+parsedjson2['data'][geoid[i]]['B19001']['estimate']['B19001012']"
      ],
      "execution_count": 0,
      "outputs": []
    },
    {
      "cell_type": "code",
      "metadata": {
        "id": "0ZDH1oaip1ds",
        "colab_type": "code",
        "outputId": "cff63c99-61be-49d3-d924-bffb2a8ea929",
        "colab": {
          "base_uri": "https://localhost:8080/",
          "height": 52
        }
      },
      "source": [
        "print(df1.loc[df1[\"population\"] == max(df1[\"population\"])])"
      ],
      "execution_count": 0,
      "outputs": [
        {
          "output_type": "stream",
          "text": [
            "            country   population\n",
            "249  [31000US35620]  1.01121e+06\n"
          ],
          "name": "stdout"
        }
      ]
    },
    {
      "cell_type": "code",
      "metadata": {
        "id": "GQPMxpmEt_nw",
        "colab_type": "code",
        "outputId": "411b38b0-c25d-439c-f145-3d2e6ce0a98d",
        "colab": {
          "base_uri": "https://localhost:8080/",
          "height": 52
        }
      },
      "source": [
        "print(df.loc[df['CBSA']==35620])"
      ],
      "execution_count": 0,
      "outputs": [
        {
          "output_type": "stream",
          "text": [
            "      CBSA                                   NAME  POPESTIMATE2017\n",
            "249  35620  New York-Newark-Jersey City, NY-NJ-PA         20320876\n"
          ],
          "name": "stdout"
        }
      ]
    },
    {
      "cell_type": "markdown",
      "metadata": {
        "id": "XnZhwoiMw3Q2",
        "colab_type": "text"
      },
      "source": [
        "Based the calculation New York_Newark-Jersey City has the highest count that range between 50k to 74.9k is 1.01121e+06"
      ]
    },
    {
      "cell_type": "markdown",
      "metadata": {
        "id": "JEhElYrRx1sy",
        "colab_type": "text"
      },
      "source": [
        "#Question2\n",
        "##2 What city has the highest count of the audience you chose for parameter #2?"
      ]
    },
    {
      "cell_type": "code",
      "metadata": {
        "id": "PsgdEUsnx0-G",
        "colab_type": "code",
        "colab": {}
      },
      "source": [
        "t2 = ['B01001']\n",
        "t02 = \",\".join(t2)"
      ],
      "execution_count": 0,
      "outputs": []
    },
    {
      "cell_type": "code",
      "metadata": {
        "id": "-GW_Tp7Dwnek",
        "colab_type": "code",
        "colab": {}
      },
      "source": [
        "requestur3 = 'http://api.censusreporter.org/1.0/data/show/latest?table_ids=%s&geo_ids=%s' % (t02, half1)\n",
        "loadedjson3 = requests.get(requestur3)\n",
        "parsedjson3 = json.loads(loadedjson3.text)\n",
        "requestur4 = 'http://api.censusreporter.org/1.0/data/show/latest?table_ids=%s&geo_ids=%s' % (t02, half2)\n",
        "loadedjson4 = requests.get(requestur4)\n",
        "parsedjson4 = json.loads(loadedjson4.text)"
      ],
      "execution_count": 0,
      "outputs": []
    },
    {
      "cell_type": "code",
      "metadata": {
        "id": "tUI-wJg_y68x",
        "colab_type": "code",
        "colab": {}
      },
      "source": [
        "#age range from 18 to 34\n",
        "ageran = ['B01001007','B01001008','B01001009','B01001010','B01001011', 'B01001012']"
      ],
      "execution_count": 0,
      "outputs": []
    },
    {
      "cell_type": "code",
      "metadata": {
        "id": "IEza3owl0YmL",
        "colab_type": "code",
        "colab": {}
      },
      "source": [
        "df2 = pd.DataFrame(columns=[\"location\", \"population\"], index=list(range(1,len(geoid))))"
      ],
      "execution_count": 0,
      "outputs": []
    },
    {
      "cell_type": "code",
      "metadata": {
        "id": "AM1N-Xup1C0V",
        "colab_type": "code",
        "colab": {}
      },
      "source": [
        "for i in list(range(1,len(geoid)//2)):\n",
        "  df2['location'][i]=[geoid[i]]\n",
        "  df2[\"population\"][i]=parsedjson3['data'][geoid[i]]['B01001']['estimate'][ageran[0]]+ \\\n",
        "    parsedjson3['data'][geoid[i]]['B01001']['estimate'][ageran[1]]+\\\n",
        "    parsedjson3['data'][geoid[i]]['B01001']['estimate'][ageran[2]]+\\\n",
        "    parsedjson3['data'][geoid[i]]['B01001']['estimate'][ageran[3]]+\\\n",
        "    parsedjson3['data'][geoid[i]]['B01001']['estimate'][ageran[4]]+\\\n",
        "    parsedjson3['data'][geoid[i]]['B01001']['estimate'][ageran[5]]\n",
        "\n"
      ],
      "execution_count": 0,
      "outputs": []
    },
    {
      "cell_type": "code",
      "metadata": {
        "id": "cLSv5GIv1Ujg",
        "colab_type": "code",
        "colab": {}
      },
      "source": [
        "for i in list(range(192,len(geoid))):\n",
        "  df2['location'][i]=[geoid[i]]\n",
        "  df2[\"population\"][i]=parsedjson4['data'][geoid[i]]['B01001']['estimate'][ageran[0]]+ \\\n",
        "    parsedjson4['data'][geoid[i]]['B01001']['estimate'][ageran[1]]+\\\n",
        "    parsedjson4['data'][geoid[i]]['B01001']['estimate'][ageran[2]]+\\\n",
        "    parsedjson4['data'][geoid[i]]['B01001']['estimate'][ageran[3]]+\\\n",
        "    parsedjson4['data'][geoid[i]]['B01001']['estimate'][ageran[4]]+\\\n",
        "    parsedjson4['data'][geoid[i]]['B01001']['estimate'][ageran[5]]"
      ],
      "execution_count": 0,
      "outputs": []
    },
    {
      "cell_type": "code",
      "metadata": {
        "id": "z_h0i81WIQMk",
        "colab_type": "code",
        "outputId": "ced04759-5c99-4ceb-f96d-4fe14680270d",
        "colab": {
          "base_uri": "https://localhost:8080/",
          "height": 87
        }
      },
      "source": [
        "print(df2.loc[df2[\"population\"] == max(df2[\"population\"])])\n",
        "print(df.loc[df['CBSA'] == 35620])"
      ],
      "execution_count": 0,
      "outputs": [
        {
          "output_type": "stream",
          "text": [
            "           location   population\n",
            "249  [31000US35620]  2.33054e+06\n",
            "      CBSA                                   NAME  POPESTIMATE2017\n",
            "249  35620  New York-Newark-Jersey City, NY-NJ-PA         20320876\n"
          ],
          "name": "stdout"
        }
      ]
    },
    {
      "cell_type": "markdown",
      "metadata": {
        "id": "jx8u_mNvLe_U",
        "colab_type": "text"
      },
      "source": [
        "As we can see the New York-Newark-Jersey City has the highest count and age between 18 to 34 is 2.33054e+06"
      ]
    },
    {
      "cell_type": "markdown",
      "metadata": {
        "id": "bFLCatsbMB7y",
        "colab_type": "text"
      },
      "source": [
        "#Question3\n",
        "##3 What city has the highest count of the audience you chose for parameter #3?"
      ]
    },
    {
      "cell_type": "code",
      "metadata": {
        "id": "SC6EC1RwMNqE",
        "colab_type": "code",
        "colab": {}
      },
      "source": [
        "t3 = ['B03003']\n",
        "t03 = \",\".join(t3)"
      ],
      "execution_count": 0,
      "outputs": []
    },
    {
      "cell_type": "code",
      "metadata": {
        "id": "5DMDLauHMcT7",
        "colab_type": "code",
        "colab": {}
      },
      "source": [
        "requestur5 = 'http://api.censusreporter.org/1.0/data/show/latest?table_ids=%s&geo_ids=%s' % (t03, half1)\n",
        "loadedjson5 = requests.get(requestur5)\n",
        "parsedjson5 = json.loads(loadedjson5.text)\n",
        "requestur6 = 'http://api.censusreporter.org/1.0/data/show/latest?table_ids=%s&geo_ids=%s' % (t03, half2)\n",
        "loadedjson6 = requests.get(requestur6)\n",
        "parsedjson6 = json.loads(loadedjson6.text)"
      ],
      "execution_count": 0,
      "outputs": []
    },
    {
      "cell_type": "code",
      "metadata": {
        "id": "BQUkMYRCPe2P",
        "colab_type": "code",
        "colab": {}
      },
      "source": [
        "df3 = pd.DataFrame(columns=[\"location\", \"population\"], index=list(range(1,len(geoid))))"
      ],
      "execution_count": 0,
      "outputs": []
    },
    {
      "cell_type": "code",
      "metadata": {
        "id": "AyrYgNa-QFpI",
        "colab_type": "code",
        "colab": {}
      },
      "source": [
        "for i in list(range(1,len(geoid)//2)):\n",
        "  df3['location'][i]=[geoid[i]]\n",
        "  df3[\"population\"][i]=parsedjson5['data'][geoid[i]]['B03003']['estimate']['B03003003']"
      ],
      "execution_count": 0,
      "outputs": []
    },
    {
      "cell_type": "code",
      "metadata": {
        "id": "e0AvAJbKQ8EF",
        "colab_type": "code",
        "colab": {}
      },
      "source": [
        "for i in list(range(192,len(geoid))):\n",
        "    df3['location'][i]=[geoid[i]]\n",
        "    df3[\"population\"][i]=parsedjson6['data'][geoid[i]]['B03003']['estimate']['B03003003']"
      ],
      "execution_count": 0,
      "outputs": []
    },
    {
      "cell_type": "code",
      "metadata": {
        "id": "hKSWBwO4RJWl",
        "colab_type": "code",
        "outputId": "c1c4bfa4-5cfd-4dfd-ac63-9430f0db507f",
        "colab": {
          "base_uri": "https://localhost:8080/",
          "height": 87
        }
      },
      "source": [
        "print(df3.loc[df3[\"population\"] == max(df3[\"population\"])])\n",
        "print(df.loc[df['CBSA'] == 31080])"
      ],
      "execution_count": 0,
      "outputs": [
        {
          "output_type": "stream",
          "text": [
            "           location   population\n",
            "210  [31000US31080]  6.00354e+06\n",
            "      CBSA                                NAME  POPESTIMATE2017\n",
            "210  31080  Los Angeles-Long Beach-Anaheim, CA         13353907\n"
          ],
          "name": "stdout"
        }
      ]
    },
    {
      "cell_type": "markdown",
      "metadata": {
        "id": "uLMh-cOjRo2u",
        "colab_type": "text"
      },
      "source": [
        "So for the calculation above Los Angeles-Long Beach-Anaheim, CA has the highest Hispanic count which is 6.00354e+06\n",
        "\n"
      ]
    },
    {
      "cell_type": "markdown",
      "metadata": {
        "id": "ndfDo3wYpPwM",
        "colab_type": "text"
      },
      "source": [
        "#Question4\n",
        "##4 What city has the highest mean percentage across all three categories?"
      ]
    },
    {
      "cell_type": "code",
      "metadata": {
        "id": "hb_r6Zv7k6yD",
        "colab_type": "code",
        "colab": {}
      },
      "source": [
        "IncomePer = []\n",
        "agePer = []\n",
        "HisPer = []\n",
        "for i, row in df1.iterrows():\n",
        "  PI = df1['population'][i]/max(df1['population'])\n",
        "  PA = df2['population'][i]/max(df2['population'])\n",
        "  PH = df3['population'][i]/max(df3['population'])\n",
        "  IncomePer.append(PI)\n",
        "  agePer.append(PA)\n",
        "  HisPer.append(PH)"
      ],
      "execution_count": 0,
      "outputs": []
    },
    {
      "cell_type": "code",
      "metadata": {
        "id": "fFKrG5Kvox6G",
        "colab_type": "code",
        "colab": {}
      },
      "source": [
        "df1['Per']=IncomePer\n",
        "df2['Per']=agePer\n",
        "df3['Per']=HisPer"
      ],
      "execution_count": 0,
      "outputs": []
    },
    {
      "cell_type": "code",
      "metadata": {
        "id": "1XbNlJg2U65i",
        "colab_type": "code",
        "colab": {}
      },
      "source": [
        "#mean percentage for thoes three\n",
        "mea = []\n",
        "for i, row in df1.iterrows():\n",
        "  mea.append((df1['Per'][i]+df2['Per'][i]+df3['Per'][i])/3)\n",
        "df1['percent mean']=mea\n"
      ],
      "execution_count": 0,
      "outputs": []
    },
    {
      "cell_type": "code",
      "metadata": {
        "id": "wdggCcxlWz66",
        "colab_type": "code",
        "outputId": "de1c348d-ae4d-4689-bba9-3ff87b281add",
        "colab": {
          "base_uri": "https://localhost:8080/",
          "height": 87
        }
      },
      "source": [
        "print(df1.loc[df1[\"percent mean\"] == max(df1[\"percent mean\"])])\n",
        "print(df.loc[df['CBSA'] == 35620])"
      ],
      "execution_count": 0,
      "outputs": [
        {
          "output_type": "stream",
          "text": [
            "            country   population       Per  percent mean\n",
            "249  [31000US35620]  1.01121e+06  0.899115      0.906454\n",
            "      CBSA                                   NAME  POPESTIMATE2017\n",
            "249  35620  New York-Newark-Jersey City, NY-NJ-PA         20320876\n"
          ],
          "name": "stdout"
        }
      ]
    },
    {
      "cell_type": "markdown",
      "metadata": {
        "id": "eSzwvReoYJG-",
        "colab_type": "text"
      },
      "source": [
        "New York-Newark-Jersey City, NY-NJ-PA has the highest percentage mean during those three categories which is 0.906454"
      ]
    },
    {
      "cell_type": "code",
      "metadata": {
        "id": "yMDzcA0MSGPd",
        "colab_type": "code",
        "colab": {}
      },
      "source": [
        ""
      ],
      "execution_count": 0,
      "outputs": []
    }
  ]
}