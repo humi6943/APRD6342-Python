{
  "nbformat": 4,
  "nbformat_minor": 0,
  "metadata": {
    "colab": {
      "name": "Exercise1 Basic Ads Analysis.ipynb",
      "provenance": [],
      "collapsed_sections": []
    },
    "kernelspec": {
      "name": "python3",
      "display_name": "Python 3"
    }
  },
  "cells": [
    {
      "cell_type": "code",
      "metadata": {
        "id": "UP2pm2M_Ya1g",
        "colab_type": "code",
        "colab": {}
      },
      "source": [
        "###APRD6342\n",
        "#Exercise 1 "
      ],
      "execution_count": 0,
      "outputs": []
    },
    {
      "cell_type": "code",
      "metadata": {
        "id": "eiAdugkuZ0EJ",
        "colab_type": "code",
        "outputId": "c45b2fff-e32e-4ab3-f059-4e88d6ab96e2",
        "colab": {
          "base_uri": "https://localhost:8080/",
          "height": 122
        }
      },
      "source": [
        "import pandas as pd\n",
        "from google.colab import drive\n",
        "drive.mount('/content/drive')\n",
        "df = pd.read_csv(open('drive/My Drive/Colab Notebooks/Travel Pony Facebook.csv', 'rb'))\n"
      ],
      "execution_count": 0,
      "outputs": [
        {
          "output_type": "stream",
          "text": [
            "Go to this URL in a browser: https://accounts.google.com/o/oauth2/auth?client_id=947318989803-6bn6qk8qdgf4n4g3pfee6491hc0brc4i.apps.googleusercontent.com&redirect_uri=urn%3Aietf%3Awg%3Aoauth%3A2.0%3Aoob&scope=email%20https%3A%2F%2Fwww.googleapis.com%2Fauth%2Fdocs.test%20https%3A%2F%2Fwww.googleapis.com%2Fauth%2Fdrive%20https%3A%2F%2Fwww.googleapis.com%2Fauth%2Fdrive.photos.readonly%20https%3A%2F%2Fwww.googleapis.com%2Fauth%2Fpeopleapi.readonly&response_type=code\n",
            "\n",
            "Enter your authorization code:\n",
            "··········\n",
            "Mounted at /content/drive\n"
          ],
          "name": "stdout"
        }
      ]
    },
    {
      "cell_type": "code",
      "metadata": {
        "id": "rHB0OONqaFZ0",
        "colab_type": "code",
        "outputId": "305b95c8-0ed9-43b5-afee-59fdc2ebdb5f",
        "colab": {
          "base_uri": "https://localhost:8080/",
          "height": 215
        }
      },
      "source": [
        "from IPython.core.interactiveshell import InteractiveShell\n",
        "InteractiveShell.ast_node_interactivity = \"all\" #####serveral outputs for one cell\n",
        "df['cost per impression'] = df['Amount Spent (USD)']/df['Impressions']\n",
        "df"
      ],
      "execution_count": 0,
      "outputs": [
        {
          "output_type": "error",
          "ename": "NameError",
          "evalue": "ignored",
          "traceback": [
            "\u001b[0;31m---------------------------------------------------------------------------\u001b[0m",
            "\u001b[0;31mNameError\u001b[0m                                 Traceback (most recent call last)",
            "\u001b[0;32m<ipython-input-1-1d4aa61c8027>\u001b[0m in \u001b[0;36m<module>\u001b[0;34m()\u001b[0m\n\u001b[1;32m      1\u001b[0m \u001b[0;32mfrom\u001b[0m \u001b[0mIPython\u001b[0m\u001b[0;34m.\u001b[0m\u001b[0mcore\u001b[0m\u001b[0;34m.\u001b[0m\u001b[0minteractiveshell\u001b[0m \u001b[0;32mimport\u001b[0m \u001b[0mInteractiveShell\u001b[0m\u001b[0;34m\u001b[0m\u001b[0;34m\u001b[0m\u001b[0m\n\u001b[1;32m      2\u001b[0m \u001b[0mInteractiveShell\u001b[0m\u001b[0;34m.\u001b[0m\u001b[0mast_node_interactivity\u001b[0m \u001b[0;34m=\u001b[0m \u001b[0;34m\"all\"\u001b[0m \u001b[0;31m#####serveral outputs for one cell\u001b[0m\u001b[0;34m\u001b[0m\u001b[0;34m\u001b[0m\u001b[0m\n\u001b[0;32m----> 3\u001b[0;31m \u001b[0mdf\u001b[0m\u001b[0;34m[\u001b[0m\u001b[0;34m'cost per impression'\u001b[0m\u001b[0;34m]\u001b[0m \u001b[0;34m=\u001b[0m \u001b[0mdf\u001b[0m\u001b[0;34m[\u001b[0m\u001b[0;34m'Amount Spent (USD)'\u001b[0m\u001b[0;34m]\u001b[0m\u001b[0;34m/\u001b[0m\u001b[0mdf\u001b[0m\u001b[0;34m[\u001b[0m\u001b[0;34m'Impressions'\u001b[0m\u001b[0;34m]\u001b[0m\u001b[0;34m\u001b[0m\u001b[0;34m\u001b[0m\u001b[0m\n\u001b[0m\u001b[1;32m      4\u001b[0m \u001b[0mdf\u001b[0m\u001b[0;34m\u001b[0m\u001b[0;34m\u001b[0m\u001b[0m\n",
            "\u001b[0;31mNameError\u001b[0m: name 'df' is not defined"
          ]
        }
      ]
    },
    {
      "cell_type": "code",
      "metadata": {
        "id": "0IfO-1T2jFUM",
        "colab_type": "code",
        "outputId": "5de7414a-8d01-4070-f230-c586e60bde6c",
        "colab": {
          "base_uri": "https://localhost:8080/",
          "height": 156
        }
      },
      "source": [
        "pip install -U arrow"
      ],
      "execution_count": 0,
      "outputs": [
        {
          "output_type": "stream",
          "text": [
            "Collecting arrow\n",
            "\u001b[?25l  Downloading https://files.pythonhosted.org/packages/a1/39/a8e116084cf4160f0821ca9bb84ec312ccca84caa2b2bffb70d95d47f91f/arrow-0.15.4-py2.py3-none-any.whl (45kB)\n",
            "\r\u001b[K     |███████▎                        | 10kB 17.1MB/s eta 0:00:01\r\u001b[K     |██████████████▌                 | 20kB 1.7MB/s eta 0:00:01\r\u001b[K     |█████████████████████▊          | 30kB 2.5MB/s eta 0:00:01\r\u001b[K     |█████████████████████████████   | 40kB 1.7MB/s eta 0:00:01\r\u001b[K     |████████████████████████████████| 51kB 1.6MB/s \n",
            "\u001b[?25hRequirement already satisfied, skipping upgrade: python-dateutil in /usr/local/lib/python3.6/dist-packages (from arrow) (2.6.1)\n",
            "Requirement already satisfied, skipping upgrade: six>=1.5 in /usr/local/lib/python3.6/dist-packages (from python-dateutil->arrow) (1.12.0)\n",
            "Installing collected packages: arrow\n",
            "Successfully installed arrow-0.15.4\n"
          ],
          "name": "stdout"
        }
      ]
    },
    {
      "cell_type": "code",
      "metadata": {
        "id": "l2nk1vhgeQ4x",
        "colab_type": "code",
        "colab": {}
      },
      "source": [
        "import arrow\n",
        "import datetime"
      ],
      "execution_count": 0,
      "outputs": []
    },
    {
      "cell_type": "code",
      "metadata": {
        "id": "zzOXNwvHou0j",
        "colab_type": "code",
        "outputId": "26737cc1-a874-465d-b328-20a3a9e7a305",
        "colab": {
          "base_uri": "https://localhost:8080/",
          "height": 164
        }
      },
      "source": [
        "df['Start Date'] = pd.to_datetime(df['Start Date'])"
      ],
      "execution_count": 0,
      "outputs": [
        {
          "output_type": "error",
          "ename": "NameError",
          "evalue": "ignored",
          "traceback": [
            "\u001b[0;31m---------------------------------------------------------------------------\u001b[0m",
            "\u001b[0;31mNameError\u001b[0m                                 Traceback (most recent call last)",
            "\u001b[0;32m<ipython-input-4-bf187e80033f>\u001b[0m in \u001b[0;36m<module>\u001b[0;34m()\u001b[0m\n\u001b[0;32m----> 1\u001b[0;31m \u001b[0mdf\u001b[0m\u001b[0;34m[\u001b[0m\u001b[0;34m'Start Date'\u001b[0m\u001b[0;34m]\u001b[0m \u001b[0;34m=\u001b[0m \u001b[0mpd\u001b[0m\u001b[0;34m.\u001b[0m\u001b[0mto_datetime\u001b[0m\u001b[0;34m(\u001b[0m\u001b[0mdf\u001b[0m\u001b[0;34m[\u001b[0m\u001b[0;34m'Start Date'\u001b[0m\u001b[0;34m]\u001b[0m\u001b[0;34m)\u001b[0m\u001b[0;34m\u001b[0m\u001b[0;34m\u001b[0m\u001b[0m\n\u001b[0m",
            "\u001b[0;31mNameError\u001b[0m: name 'pd' is not defined"
          ]
        }
      ]
    },
    {
      "cell_type": "code",
      "metadata": {
        "id": "tvra1SLvpIlV",
        "colab_type": "code",
        "colab": {}
      },
      "source": [
        "df.dtypes"
      ],
      "execution_count": 0,
      "outputs": []
    },
    {
      "cell_type": "code",
      "metadata": {
        "id": "URPbwGN5pWdp",
        "colab_type": "code",
        "colab": {}
      },
      "source": [
        "df.head()"
      ],
      "execution_count": 0,
      "outputs": []
    },
    {
      "cell_type": "code",
      "metadata": {
        "id": "svBOFfFJpftw",
        "colab_type": "code",
        "colab": {}
      },
      "source": [
        "df['day of week'] = df['Start Date'].apply(lambda x:x.strftime('%A'))"
      ],
      "execution_count": 0,
      "outputs": []
    },
    {
      "cell_type": "code",
      "metadata": {
        "id": "6AaEQU2yuPab",
        "colab_type": "code",
        "colab": {}
      },
      "source": [
        "#Question 1 what day is the best? Saturday\n",
        "#what day is the worest? Friday\n",
        "mx=df.groupby('day of week')['cost per impression'].mean()\n",
        "mx.nlargest(1)\n",
        "mx.nsmallest(1)\n"
      ],
      "execution_count": 0,
      "outputs": []
    },
    {
      "cell_type": "markdown",
      "metadata": {
        "id": "JfypYre_YpCA",
        "colab_type": "text"
      },
      "source": [
        "Saturday works best with 0.002629 cost per impression. (cheapest) Friday \n",
        "\n",
        "works worst with 0.004097 cost per impression. (most expensive)"
      ]
    },
    {
      "cell_type": "code",
      "metadata": {
        "id": "GeD2xAdswK4F",
        "colab_type": "code",
        "outputId": "93af54e1-052c-4225-dc59-c84b394f6b6b",
        "colab": {
          "base_uri": "https://localhost:8080/",
          "height": 164
        }
      },
      "source": [
        "mx.sort_values()"
      ],
      "execution_count": 0,
      "outputs": [
        {
          "output_type": "error",
          "ename": "NameError",
          "evalue": "ignored",
          "traceback": [
            "\u001b[0;31m---------------------------------------------------------------------------\u001b[0m",
            "\u001b[0;31mNameError\u001b[0m                                 Traceback (most recent call last)",
            "\u001b[0;32m<ipython-input-5-3a3034bf09e4>\u001b[0m in \u001b[0;36m<module>\u001b[0;34m()\u001b[0m\n\u001b[0;32m----> 1\u001b[0;31m \u001b[0mmx\u001b[0m\u001b[0;34m.\u001b[0m\u001b[0msort_values\u001b[0m\u001b[0;34m(\u001b[0m\u001b[0;34m)\u001b[0m\u001b[0;34m\u001b[0m\u001b[0;34m\u001b[0m\u001b[0m\n\u001b[0m",
            "\u001b[0;31mNameError\u001b[0m: name 'mx' is not defined"
          ]
        }
      ]
    },
    {
      "cell_type": "code",
      "metadata": {
        "id": "H1RzQE2Vxbfx",
        "colab_type": "code",
        "outputId": "011d1ad0-bf17-41a4-85c6-5b839f287936",
        "colab": {
          "base_uri": "https://localhost:8080/",
          "height": 868
        }
      },
      "source": [
        "# correlation \n",
        "cc=df.corr()\n",
        "cc"
      ],
      "execution_count": 0,
      "outputs": [
        {
          "output_type": "execute_result",
          "data": {
            "text/html": [
              "<div>\n",
              "<style scoped>\n",
              "    .dataframe tbody tr th:only-of-type {\n",
              "        vertical-align: middle;\n",
              "    }\n",
              "\n",
              "    .dataframe tbody tr th {\n",
              "        vertical-align: top;\n",
              "    }\n",
              "\n",
              "    .dataframe thead th {\n",
              "        text-align: right;\n",
              "    }\n",
              "</style>\n",
              "<table border=\"1\" class=\"dataframe\">\n",
              "  <thead>\n",
              "    <tr style=\"text-align: right;\">\n",
              "      <th></th>\n",
              "      <th>Reach</th>\n",
              "      <th>Frequency</th>\n",
              "      <th>Impressions</th>\n",
              "      <th>Clicks</th>\n",
              "      <th>Unique Clicks</th>\n",
              "      <th>Amount Spent (USD)</th>\n",
              "      <th>Page Likes</th>\n",
              "      <th>Page Engagement</th>\n",
              "      <th>Post Engagement</th>\n",
              "      <th>Post Likes</th>\n",
              "      <th>Post Comments</th>\n",
              "      <th>Post Shares</th>\n",
              "      <th>Photo Views</th>\n",
              "      <th>Website Clicks</th>\n",
              "      <th>Cost per Page Like (USD)</th>\n",
              "      <th>Cost per Page Engagement (USD)</th>\n",
              "      <th>cost per impression</th>\n",
              "    </tr>\n",
              "  </thead>\n",
              "  <tbody>\n",
              "    <tr>\n",
              "      <th>Reach</th>\n",
              "      <td>1.000000</td>\n",
              "      <td>0.334101</td>\n",
              "      <td>0.966851</td>\n",
              "      <td>0.709466</td>\n",
              "      <td>0.722249</td>\n",
              "      <td>0.703124</td>\n",
              "      <td>0.304388</td>\n",
              "      <td>0.597648</td>\n",
              "      <td>0.605244</td>\n",
              "      <td>0.151727</td>\n",
              "      <td>0.100254</td>\n",
              "      <td>0.153288</td>\n",
              "      <td>0.205678</td>\n",
              "      <td>0.858860</td>\n",
              "      <td>0.646366</td>\n",
              "      <td>0.168697</td>\n",
              "      <td>0.028005</td>\n",
              "    </tr>\n",
              "    <tr>\n",
              "      <th>Frequency</th>\n",
              "      <td>0.334101</td>\n",
              "      <td>1.000000</td>\n",
              "      <td>0.386949</td>\n",
              "      <td>0.128473</td>\n",
              "      <td>0.135103</td>\n",
              "      <td>0.130201</td>\n",
              "      <td>0.000182</td>\n",
              "      <td>0.111645</td>\n",
              "      <td>0.119780</td>\n",
              "      <td>-0.015511</td>\n",
              "      <td>-0.008028</td>\n",
              "      <td>-0.012113</td>\n",
              "      <td>-0.009054</td>\n",
              "      <td>0.240826</td>\n",
              "      <td>0.154855</td>\n",
              "      <td>0.043232</td>\n",
              "      <td>-0.018217</td>\n",
              "    </tr>\n",
              "    <tr>\n",
              "      <th>Impressions</th>\n",
              "      <td>0.966851</td>\n",
              "      <td>0.386949</td>\n",
              "      <td>1.000000</td>\n",
              "      <td>0.538032</td>\n",
              "      <td>0.553394</td>\n",
              "      <td>0.532913</td>\n",
              "      <td>0.158246</td>\n",
              "      <td>0.459510</td>\n",
              "      <td>0.474330</td>\n",
              "      <td>0.065275</td>\n",
              "      <td>0.043358</td>\n",
              "      <td>0.067018</td>\n",
              "      <td>0.090544</td>\n",
              "      <td>0.769145</td>\n",
              "      <td>0.565503</td>\n",
              "      <td>0.091639</td>\n",
              "      <td>0.006973</td>\n",
              "    </tr>\n",
              "    <tr>\n",
              "      <th>Clicks</th>\n",
              "      <td>0.709466</td>\n",
              "      <td>0.128473</td>\n",
              "      <td>0.538032</td>\n",
              "      <td>1.000000</td>\n",
              "      <td>0.998287</td>\n",
              "      <td>0.883411</td>\n",
              "      <td>0.591499</td>\n",
              "      <td>0.797945</td>\n",
              "      <td>0.786167</td>\n",
              "      <td>0.465285</td>\n",
              "      <td>0.242256</td>\n",
              "      <td>0.407737</td>\n",
              "      <td>0.448348</td>\n",
              "      <td>0.817139</td>\n",
              "      <td>0.594057</td>\n",
              "      <td>0.209975</td>\n",
              "      <td>0.088315</td>\n",
              "    </tr>\n",
              "    <tr>\n",
              "      <th>Unique Clicks</th>\n",
              "      <td>0.722249</td>\n",
              "      <td>0.135103</td>\n",
              "      <td>0.553394</td>\n",
              "      <td>0.998287</td>\n",
              "      <td>1.000000</td>\n",
              "      <td>0.882993</td>\n",
              "      <td>0.584614</td>\n",
              "      <td>0.787337</td>\n",
              "      <td>0.775598</td>\n",
              "      <td>0.445915</td>\n",
              "      <td>0.224601</td>\n",
              "      <td>0.379449</td>\n",
              "      <td>0.432454</td>\n",
              "      <td>0.822962</td>\n",
              "      <td>0.597671</td>\n",
              "      <td>0.213844</td>\n",
              "      <td>0.086798</td>\n",
              "    </tr>\n",
              "    <tr>\n",
              "      <th>Amount Spent (USD)</th>\n",
              "      <td>0.703124</td>\n",
              "      <td>0.130201</td>\n",
              "      <td>0.532913</td>\n",
              "      <td>0.883411</td>\n",
              "      <td>0.882993</td>\n",
              "      <td>1.000000</td>\n",
              "      <td>0.757612</td>\n",
              "      <td>0.819253</td>\n",
              "      <td>0.789348</td>\n",
              "      <td>0.386383</td>\n",
              "      <td>0.259781</td>\n",
              "      <td>0.420018</td>\n",
              "      <td>0.479713</td>\n",
              "      <td>0.817490</td>\n",
              "      <td>0.637906</td>\n",
              "      <td>0.323046</td>\n",
              "      <td>0.119201</td>\n",
              "    </tr>\n",
              "    <tr>\n",
              "      <th>Page Likes</th>\n",
              "      <td>0.304388</td>\n",
              "      <td>0.000182</td>\n",
              "      <td>0.158246</td>\n",
              "      <td>0.591499</td>\n",
              "      <td>0.584614</td>\n",
              "      <td>0.757612</td>\n",
              "      <td>1.000000</td>\n",
              "      <td>0.650871</td>\n",
              "      <td>0.579933</td>\n",
              "      <td>0.454491</td>\n",
              "      <td>0.290983</td>\n",
              "      <td>0.432091</td>\n",
              "      <td>0.402059</td>\n",
              "      <td>0.477790</td>\n",
              "      <td>0.304196</td>\n",
              "      <td>0.271398</td>\n",
              "      <td>0.143931</td>\n",
              "    </tr>\n",
              "    <tr>\n",
              "      <th>Page Engagement</th>\n",
              "      <td>0.597648</td>\n",
              "      <td>0.111645</td>\n",
              "      <td>0.459510</td>\n",
              "      <td>0.797945</td>\n",
              "      <td>0.787337</td>\n",
              "      <td>0.819253</td>\n",
              "      <td>0.650871</td>\n",
              "      <td>1.000000</td>\n",
              "      <td>0.995945</td>\n",
              "      <td>0.700280</td>\n",
              "      <td>0.387753</td>\n",
              "      <td>0.648593</td>\n",
              "      <td>0.814885</td>\n",
              "      <td>0.731632</td>\n",
              "      <td>0.617181</td>\n",
              "      <td>0.147983</td>\n",
              "      <td>0.117141</td>\n",
              "    </tr>\n",
              "    <tr>\n",
              "      <th>Post Engagement</th>\n",
              "      <td>0.605244</td>\n",
              "      <td>0.119780</td>\n",
              "      <td>0.474330</td>\n",
              "      <td>0.786167</td>\n",
              "      <td>0.775598</td>\n",
              "      <td>0.789348</td>\n",
              "      <td>0.579933</td>\n",
              "      <td>0.995945</td>\n",
              "      <td>1.000000</td>\n",
              "      <td>0.697600</td>\n",
              "      <td>0.381613</td>\n",
              "      <td>0.644780</td>\n",
              "      <td>0.826786</td>\n",
              "      <td>0.728476</td>\n",
              "      <td>0.626231</td>\n",
              "      <td>0.126639</td>\n",
              "      <td>0.108649</td>\n",
              "    </tr>\n",
              "    <tr>\n",
              "      <th>Post Likes</th>\n",
              "      <td>0.151727</td>\n",
              "      <td>-0.015511</td>\n",
              "      <td>0.065275</td>\n",
              "      <td>0.465285</td>\n",
              "      <td>0.445915</td>\n",
              "      <td>0.386383</td>\n",
              "      <td>0.454491</td>\n",
              "      <td>0.700280</td>\n",
              "      <td>0.697600</td>\n",
              "      <td>1.000000</td>\n",
              "      <td>0.424246</td>\n",
              "      <td>0.689834</td>\n",
              "      <td>0.639658</td>\n",
              "      <td>0.240632</td>\n",
              "      <td>0.267482</td>\n",
              "      <td>0.058336</td>\n",
              "      <td>0.106425</td>\n",
              "    </tr>\n",
              "    <tr>\n",
              "      <th>Post Comments</th>\n",
              "      <td>0.100254</td>\n",
              "      <td>-0.008028</td>\n",
              "      <td>0.043358</td>\n",
              "      <td>0.242256</td>\n",
              "      <td>0.224601</td>\n",
              "      <td>0.259781</td>\n",
              "      <td>0.290983</td>\n",
              "      <td>0.387753</td>\n",
              "      <td>0.381613</td>\n",
              "      <td>0.424246</td>\n",
              "      <td>1.000000</td>\n",
              "      <td>0.405031</td>\n",
              "      <td>0.337559</td>\n",
              "      <td>0.165320</td>\n",
              "      <td>0.184128</td>\n",
              "      <td>0.073138</td>\n",
              "      <td>0.074364</td>\n",
              "    </tr>\n",
              "    <tr>\n",
              "      <th>Post Shares</th>\n",
              "      <td>0.153288</td>\n",
              "      <td>-0.012113</td>\n",
              "      <td>0.067018</td>\n",
              "      <td>0.407737</td>\n",
              "      <td>0.379449</td>\n",
              "      <td>0.420018</td>\n",
              "      <td>0.432091</td>\n",
              "      <td>0.648593</td>\n",
              "      <td>0.644780</td>\n",
              "      <td>0.689834</td>\n",
              "      <td>0.405031</td>\n",
              "      <td>1.000000</td>\n",
              "      <td>0.585653</td>\n",
              "      <td>0.283128</td>\n",
              "      <td>0.251561</td>\n",
              "      <td>0.061352</td>\n",
              "      <td>0.090520</td>\n",
              "    </tr>\n",
              "    <tr>\n",
              "      <th>Photo Views</th>\n",
              "      <td>0.205678</td>\n",
              "      <td>-0.009054</td>\n",
              "      <td>0.090544</td>\n",
              "      <td>0.448348</td>\n",
              "      <td>0.432454</td>\n",
              "      <td>0.479713</td>\n",
              "      <td>0.402059</td>\n",
              "      <td>0.814885</td>\n",
              "      <td>0.826786</td>\n",
              "      <td>0.639658</td>\n",
              "      <td>0.337559</td>\n",
              "      <td>0.585653</td>\n",
              "      <td>1.000000</td>\n",
              "      <td>0.252120</td>\n",
              "      <td>0.383928</td>\n",
              "      <td>0.048589</td>\n",
              "      <td>0.084764</td>\n",
              "    </tr>\n",
              "    <tr>\n",
              "      <th>Website Clicks</th>\n",
              "      <td>0.858860</td>\n",
              "      <td>0.240826</td>\n",
              "      <td>0.769145</td>\n",
              "      <td>0.817139</td>\n",
              "      <td>0.822962</td>\n",
              "      <td>0.817490</td>\n",
              "      <td>0.477790</td>\n",
              "      <td>0.731632</td>\n",
              "      <td>0.728476</td>\n",
              "      <td>0.240632</td>\n",
              "      <td>0.165320</td>\n",
              "      <td>0.283128</td>\n",
              "      <td>0.252120</td>\n",
              "      <td>1.000000</td>\n",
              "      <td>0.665639</td>\n",
              "      <td>0.161074</td>\n",
              "      <td>0.071118</td>\n",
              "    </tr>\n",
              "    <tr>\n",
              "      <th>Cost per Page Like (USD)</th>\n",
              "      <td>0.646366</td>\n",
              "      <td>0.154855</td>\n",
              "      <td>0.565503</td>\n",
              "      <td>0.594057</td>\n",
              "      <td>0.597671</td>\n",
              "      <td>0.637906</td>\n",
              "      <td>0.304196</td>\n",
              "      <td>0.617181</td>\n",
              "      <td>0.626231</td>\n",
              "      <td>0.267482</td>\n",
              "      <td>0.184128</td>\n",
              "      <td>0.251561</td>\n",
              "      <td>0.383928</td>\n",
              "      <td>0.665639</td>\n",
              "      <td>1.000000</td>\n",
              "      <td>0.286780</td>\n",
              "      <td>0.088785</td>\n",
              "    </tr>\n",
              "    <tr>\n",
              "      <th>Cost per Page Engagement (USD)</th>\n",
              "      <td>0.168697</td>\n",
              "      <td>0.043232</td>\n",
              "      <td>0.091639</td>\n",
              "      <td>0.209975</td>\n",
              "      <td>0.213844</td>\n",
              "      <td>0.323046</td>\n",
              "      <td>0.271398</td>\n",
              "      <td>0.147983</td>\n",
              "      <td>0.126639</td>\n",
              "      <td>0.058336</td>\n",
              "      <td>0.073138</td>\n",
              "      <td>0.061352</td>\n",
              "      <td>0.048589</td>\n",
              "      <td>0.161074</td>\n",
              "      <td>0.286780</td>\n",
              "      <td>1.000000</td>\n",
              "      <td>0.150591</td>\n",
              "    </tr>\n",
              "    <tr>\n",
              "      <th>cost per impression</th>\n",
              "      <td>0.028005</td>\n",
              "      <td>-0.018217</td>\n",
              "      <td>0.006973</td>\n",
              "      <td>0.088315</td>\n",
              "      <td>0.086798</td>\n",
              "      <td>0.119201</td>\n",
              "      <td>0.143931</td>\n",
              "      <td>0.117141</td>\n",
              "      <td>0.108649</td>\n",
              "      <td>0.106425</td>\n",
              "      <td>0.074364</td>\n",
              "      <td>0.090520</td>\n",
              "      <td>0.084764</td>\n",
              "      <td>0.071118</td>\n",
              "      <td>0.088785</td>\n",
              "      <td>0.150591</td>\n",
              "      <td>1.000000</td>\n",
              "    </tr>\n",
              "  </tbody>\n",
              "</table>\n",
              "</div>"
            ],
            "text/plain": [
              "                                   Reach  ...  cost per impression\n",
              "Reach                           1.000000  ...             0.028005\n",
              "Frequency                       0.334101  ...            -0.018217\n",
              "Impressions                     0.966851  ...             0.006973\n",
              "Clicks                          0.709466  ...             0.088315\n",
              "Unique Clicks                   0.722249  ...             0.086798\n",
              "Amount Spent (USD)              0.703124  ...             0.119201\n",
              "Page Likes                      0.304388  ...             0.143931\n",
              "Page Engagement                 0.597648  ...             0.117141\n",
              "Post Engagement                 0.605244  ...             0.108649\n",
              "Post Likes                      0.151727  ...             0.106425\n",
              "Post Comments                   0.100254  ...             0.074364\n",
              "Post Shares                     0.153288  ...             0.090520\n",
              "Photo Views                     0.205678  ...             0.084764\n",
              "Website Clicks                  0.858860  ...             0.071118\n",
              "Cost per Page Like (USD)        0.646366  ...             0.088785\n",
              "Cost per Page Engagement (USD)  0.168697  ...             0.150591\n",
              "cost per impression             0.028005  ...             1.000000\n",
              "\n",
              "[17 rows x 17 columns]"
            ]
          },
          "metadata": {
            "tags": []
          },
          "execution_count": 96
        }
      ]
    },
    {
      "cell_type": "markdown",
      "metadata": {
        "id": "skPwbWvLZmT5",
        "colab_type": "text"
      },
      "source": [
        "We can see the Unique Clicks has the strongest correlation which is 0.882993. Because the correlation is close to one, we can say this is a strong positive between the Unique Clicks and Amount Spent."
      ]
    },
    {
      "cell_type": "markdown",
      "metadata": {
        "id": "0fxd3hJaZdXi",
        "colab_type": "text"
      },
      "source": [
        ""
      ]
    },
    {
      "cell_type": "code",
      "metadata": {
        "id": "L_03sUi90yB9",
        "colab_type": "code",
        "outputId": "19c7a100-c5c3-4982-e299-a0be185c48a9",
        "colab": {
          "base_uri": "https://localhost:8080/",
          "height": 119
        }
      },
      "source": [
        "cc.iloc[[0,1,4,6],5]\n",
        "cc.iloc[[0,1,4,6],5].nlargest(1)\n",
        "#The strongest correlation is Unique Clicks"
      ],
      "execution_count": 0,
      "outputs": [
        {
          "output_type": "execute_result",
          "data": {
            "text/plain": [
              "Reach            0.703124\n",
              "Frequency        0.130201\n",
              "Unique Clicks    0.882993\n",
              "Page Likes       0.757612\n",
              "Name: Amount Spent (USD), dtype: float64"
            ]
          },
          "metadata": {
            "tags": []
          },
          "execution_count": 87
        },
        {
          "output_type": "execute_result",
          "data": {
            "text/plain": [
              "Unique Clicks    0.882993\n",
              "Name: Amount Spent (USD), dtype: float64"
            ]
          },
          "metadata": {
            "tags": []
          },
          "execution_count": 87
        }
      ]
    },
    {
      "cell_type": "code",
      "metadata": {
        "id": "lJohrpuC1qMU",
        "colab_type": "code",
        "outputId": "b5550bea-2239-4435-d1a0-dc10d236a45a",
        "colab": {
          "base_uri": "https://localhost:8080/",
          "height": 476
        }
      },
      "source": [
        "#####linear regression \n",
        "##Unique Clicks dependent variable. Reach and Frequency as independent variable\n",
        "import statsmodels.api as sm\n",
        "target = df['Unique Clicks']\n",
        "ind = df[['Reach','Frequency']]\n",
        "mod = sm.OLS(target, ind)\n",
        "res=mod.fit()\n",
        "print(res.summary())\n"
      ],
      "execution_count": 0,
      "outputs": [
        {
          "output_type": "stream",
          "text": [
            "                                 OLS Regression Results                                \n",
            "=======================================================================================\n",
            "Dep. Variable:          Unique Clicks   R-squared (uncentered):                   0.557\n",
            "Model:                            OLS   Adj. R-squared (uncentered):              0.556\n",
            "Method:                 Least Squares   F-statistic:                              2325.\n",
            "Date:                Thu, 07 Nov 2019   Prob (F-statistic):                        0.00\n",
            "Time:                        23:24:45   Log-Likelihood:                         -15973.\n",
            "No. Observations:                3705   AIC:                                  3.195e+04\n",
            "Df Residuals:                    3703   BIC:                                  3.196e+04\n",
            "Df Model:                           2                                                  \n",
            "Covariance Type:            nonrobust                                                  \n",
            "==============================================================================\n",
            "                 coef    std err          t      P>|t|      [0.025      0.975]\n",
            "------------------------------------------------------------------------------\n",
            "Reach          0.0019   3.12e-05     62.490      0.000       0.002       0.002\n",
            "Frequency      3.6139      0.298     12.109      0.000       3.029       4.199\n",
            "==============================================================================\n",
            "Omnibus:                     5107.616   Durbin-Watson:                   0.803\n",
            "Prob(Omnibus):                  0.000   Jarque-Bera (JB):          5128392.747\n",
            "Skew:                           7.331   Prob(JB):                         0.00\n",
            "Kurtosis:                     184.674   Cond. No.                     9.84e+03\n",
            "==============================================================================\n",
            "\n",
            "Warnings:\n",
            "[1] Standard Errors assume that the covariance matrix of the errors is correctly specified.\n",
            "[2] The condition number is large, 9.84e+03. This might indicate that there are\n",
            "strong multicollinearity or other numerical problems.\n"
          ],
          "name": "stdout"
        }
      ]
    },
    {
      "cell_type": "markdown",
      "metadata": {
        "id": "PoMnulK7Zzh5",
        "colab_type": "text"
      },
      "source": [
        "The Frequency strongly predict unique clicks, when Frequency increasing by 1, the predict unique clicks increasing by 3.6139. When reach increasing by 1, the predict unique clicks increasing by 0.0019. Therefore, frequency strongly predicts unique clicks."
      ]
    },
    {
      "cell_type": "code",
      "metadata": {
        "id": "PHrFbLceZ-1f",
        "colab_type": "code",
        "colab": {}
      },
      "source": [
        ""
      ],
      "execution_count": 0,
      "outputs": []
    }
  ]
}